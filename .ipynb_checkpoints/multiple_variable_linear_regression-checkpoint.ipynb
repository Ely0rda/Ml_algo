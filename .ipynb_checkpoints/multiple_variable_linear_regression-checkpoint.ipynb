{
 "cells": [
  {
   "cell_type": "code",
   "execution_count": 48,
   "id": "2ca32c86",
   "metadata": {},
   "outputs": [],
   "source": [
    "import numpy as np\n",
    "import matplotlib.pyplot as plt"
   ]
  },
  {
   "cell_type": "markdown",
   "id": "ed78e6a8",
   "metadata": {},
   "source": [
    "### Training set"
   ]
  },
  {
   "cell_type": "code",
   "execution_count": 98,
   "id": "95993275",
   "metadata": {},
   "outputs": [],
   "source": [
    "\n",
    "X_train = np.array([[2104, 5, 1, 45], [1416, 3, 2, 40], [852, 2, 1, 35]])\n",
    "y_train = np.array([460, 232, 178])"
   ]
  },
  {
   "cell_type": "markdown",
   "id": "507219c6",
   "metadata": {},
   "source": [
    "### Computing the model f_wb"
   ]
  },
  {
   "cell_type": "code",
   "execution_count": 99,
   "id": "c4cfa120",
   "metadata": {},
   "outputs": [],
   "source": [
    "# Multivariable linear regression\n",
    "# w now is a vector: 1D array w = [w0,w1,w2..,wn] n is the number of features\n",
    "# f_wb[0]= w0*x[0][0]+w1*x[0][1]+wnx[0][n]\n",
    "# f_wb.shape == x.shape[0]\n",
    "def compute_fwb(x,w,b):\n",
    "    #w is vectors\n",
    "    #x is a 2D array, I consider it as an array of vectors\n",
    "    #x is a matrix\n",
    "    m = x.shape[0]\n",
    "    f_wb = np.zeros(m)\n",
    "    #computing f_wb for every xi, where each one is a vector. xi = {x1i,x2i,x3i}\n",
    "    for i in range(m):\n",
    "        f_wb[i] = np.dot(w,x[i])+b\n",
    "    return f_wb\n"
   ]
  },
  {
   "cell_type": "markdown",
   "id": "e9c6ab5b",
   "metadata": {},
   "source": [
    "### Computing the derivatives"
   ]
  },
  {
   "cell_type": "code",
   "execution_count": 100,
   "id": "3e9becaa",
   "metadata": {},
   "outputs": [],
   "source": [
    "#I am considering w as a vector here\n",
    "#And we need to calculate the derivatives for each w[i]\n",
    "def derivatives(w_i,b_i,x,y):\n",
    "    #w is a vector\n",
    "    w = w_i\n",
    "    b = b_i\n",
    "    m = x.shape[0]\n",
    "    n = x.shape[1]\n",
    "    \n",
    "    #f_wb is a 1D array\n",
    "    #the w gicen to compute_fwb() is a vector\n",
    "    #x is an array of vetors\n",
    "    f_wb = compute_fwb(x,w,b)\n",
    "    #we need to calculate the dj_dw for every every w[i] in the vector\n",
    "    \n",
    "    dj_dw=np.zeros(n)\n",
    "    dj_db=0.0\n",
    "    for i in range(m):\n",
    "        for j in range(n):\n",
    "            #dj_dw is a vector of derivatives of dw1,dw2..,dwn\n",
    "            dj_dw[j] +=  ((f_wb[i]-y[i])*x[i][j])/m\n",
    "        dj_db +=  ((f_wb[i]-y[i]))/m\n",
    "        \n",
    "    \n",
    "    return dj_dw,dj_db"
   ]
  },
  {
   "cell_type": "markdown",
   "id": "764fc916",
   "metadata": {},
   "source": [
    "### Computing gradient descent"
   ]
  },
  {
   "cell_type": "code",
   "execution_count": 107,
   "id": "edd05764",
   "metadata": {},
   "outputs": [],
   "source": [
    "def comp_gd(x,y,w_i,b_i,num_iter,alpha):\n",
    "    w = w_i\n",
    "    b = b_i\n",
    "    for i in range(num_iter):\n",
    "        dj_dw,dj_db = derivatives(w,b,x,y)\n",
    "        w = w - alpha*dj_dw\n",
    "        b = b - alpha*dj_db\n",
    "        if(i%100 == 0):\n",
    "            print(f\" {i} : w = {w}, b = {b:0.2f}\")\n",
    "    return w,b\n",
    "    \n",
    "    "
   ]
  },
  {
   "cell_type": "markdown",
   "id": "7714cea8",
   "metadata": {},
   "source": [
    "### Gradient descent in action"
   ]
  },
  {
   "cell_type": "code",
   "execution_count": 108,
   "id": "f76dffe3",
   "metadata": {
    "scrolled": true
   },
   "outputs": [
    {
     "name": "stdout",
     "output_type": "stream",
     "text": [
      " 0 : w = [2.41334667e-01 5.58666667e-04 1.83666667e-04 6.03500000e-03], b = 0.00\n",
      " 100 : w = [ 0.20235171  0.00079796 -0.00099658 -0.00219736], b = -0.00\n",
      " 200 : w = [ 0.20253446  0.00112715 -0.00214349 -0.00940619], b = -0.00\n",
      " 300 : w = [ 0.2027164   0.00145611 -0.00328876 -0.01658286], b = -0.00\n",
      " 400 : w = [ 0.20289753  0.00178484 -0.00443238 -0.02372751], b = -0.00\n",
      " 500 : w = [ 0.20307785  0.00211335 -0.00557437 -0.03084027], b = -0.00\n",
      " 600 : w = [ 0.20325736  0.00244162 -0.00671473 -0.0379213 ], b = -0.00\n",
      " 700 : w = [ 0.20343608  0.00276967 -0.00785347 -0.04497072], b = -0.00\n",
      " 800 : w = [ 0.20361399  0.00309749 -0.00899059 -0.05198869], b = -0.00\n",
      " 900 : w = [ 0.20379112  0.00342509 -0.01012611 -0.05897533], b = -0.00\n",
      " w = [ 0.20396569  0.00374919 -0.0112487  -0.0658614 ], b = -0.00\n"
     ]
    }
   ],
   "source": [
    "n = X_train.shape[1]\n",
    "w = np.zeros(n)\n",
    "w_final,b_final = comp_gd(X_train,y_train,w,0.0,1000,5.0e-7)\n",
    "print(f\" w = {w_final}, b = {b_final:0.2f}\")\n",
    "\n"
   ]
  },
  {
   "cell_type": "code",
   "execution_count": 109,
   "id": "45cdf212",
   "metadata": {},
   "outputs": [
    {
     "name": "stdout",
     "output_type": "stream",
     "text": [
      "w: [0. 0. 0. 0.], b: -0.00\n",
      "Prediction : 426.18530497189204 , Target value : 460\n",
      "Prediction : 286.1674720078562 , Target value : 232\n",
      "Prediction : 171.46763087132317 , Target value : 178\n"
     ]
    }
   ],
   "source": [
    "pred = compute_fwb(X_train,w_final,b_final)\n",
    "print(f\"w: {w}, b: {b:0.2f}\")\n",
    "for i in range(X_train.shape[0]):\n",
    "   print(f\"Prediction : {pred[i]} , Target value : {y_train[i]}\")"
   ]
  },
  {
   "cell_type": "code",
   "execution_count": null,
   "id": "13cf5f77",
   "metadata": {},
   "outputs": [],
   "source": []
  }
 ],
 "metadata": {
  "kernelspec": {
   "display_name": "Python 3 (ipykernel)",
   "language": "python",
   "name": "python3"
  },
  "language_info": {
   "codemirror_mode": {
    "name": "ipython",
    "version": 3
   },
   "file_extension": ".py",
   "mimetype": "text/x-python",
   "name": "python",
   "nbconvert_exporter": "python",
   "pygments_lexer": "ipython3",
   "version": "3.9.13"
  },
  "vscode": {
   "interpreter": {
    "hash": "1ecb2e6f3686b278b76ec76c63ed156bc776c4e4009db9d7bec264728145d3f3"
   }
  }
 },
 "nbformat": 4,
 "nbformat_minor": 5
}
