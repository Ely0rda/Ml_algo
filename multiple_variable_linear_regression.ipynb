{
 "cells": [
  {
   "cell_type": "code",
   "execution_count": 9,
   "id": "840b5524",
   "metadata": {},
   "outputs": [
    {
     "name": "stdout",
     "output_type": "stream",
     "text": [
      "x1: [ 7  8  9 10 11 12 13 14 15 16 17 18]\n",
      "x1: [-3 -2 -1  0  1  2  3  4  5  6  7  8]\n",
      "result : [-21 -16  -9   0  11  24  39  56  75  96 119 144]\n"
     ]
    }
   ],
   "source": [
    "import numpy as np\n",
    "x1 = np.arange(-3,3, 0.5, dtype=int)+10\n",
    "\n",
    "x2 = np.arange(-3,3, 0.5, dtype=int)\n",
    "print(f\"x1: {x1}\")\n",
    "print(f\"x1: {x2}\")\n",
    "print(f\"result : {x1*x2}\")\n"
   ]
  },
  {
   "cell_type": "code",
   "execution_count": null,
   "id": "c739dc9d",
   "metadata": {},
   "outputs": [],
   "source": []
  }
 ],
 "metadata": {
  "kernelspec": {
   "display_name": "Python 3 (ipykernel)",
   "language": "python",
   "name": "python3"
  },
  "language_info": {
   "codemirror_mode": {
    "name": "ipython",
    "version": 3
   },
   "file_extension": ".py",
   "mimetype": "text/x-python",
   "name": "python",
   "nbconvert_exporter": "python",
   "pygments_lexer": "ipython3",
   "version": "3.9.13"
  }
 },
 "nbformat": 4,
 "nbformat_minor": 5
}
